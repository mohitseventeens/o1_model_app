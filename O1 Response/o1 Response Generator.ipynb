{
 "cells": [
  {
   "cell_type": "markdown",
   "id": "78f8a3eb",
   "metadata": {},
   "source": [
    "### O1 Response Generator"
   ]
  },
  {
   "cell_type": "code",
   "execution_count": 1,
   "id": "4594e237",
   "metadata": {
    "height": 2308
   },
   "outputs": [],
   "source": [
    "from o1_response_generator import O1ResponseGenerator\n",
    "from prompts import system_prompt, prompt\n",
    "\n",
    "system_prompt = system_prompt['android_app_structure_designer']\n",
    "prompt = prompt['physiotherapy_app']\n",
    "\n",
    "response_generator = O1ResponseGenerator(o1_model=\"o1-mini\")\n",
    "# Generate the response\n",
    "response = response_generator.generate_response(\n",
    "    prompt=prompt,\n",
    "    system_prompt=system_prompt,\n",
    "    file_name=\"physiotherapy_app.html\",\n",
    "    display_output=False\n",
    ")"
   ]
  }
 ],
 "metadata": {
  "kernelspec": {
   "display_name": ".venv",
   "language": "python",
   "name": "python3"
  },
  "language_info": {
   "codemirror_mode": {
    "name": "ipython",
    "version": 3
   },
   "file_extension": ".py",
   "mimetype": "text/x-python",
   "name": "python",
   "nbconvert_exporter": "python",
   "pygments_lexer": "ipython3",
   "version": "3.11.3"
  }
 },
 "nbformat": 4,
 "nbformat_minor": 5
}
